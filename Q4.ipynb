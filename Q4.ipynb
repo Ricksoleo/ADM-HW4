{
 "cells": [
  {
   "cell_type": "markdown",
   "metadata": {},
   "source": [
    "Two brilliant strategists, Arya and Mario, are about to play a game with a sequence of numbers. Arya, as player 1, begins the game, while Mario, player 2, plays 2nd. Their goal is clear: to collect the highest possible score by taking numbers from either end of the sequence, one at a time. They will play in perfect synchronicity, each seeking the advantage.\n",
    "\n",
    "The sequence represented as an array of `nums,` is laid out in front of them. Arya will start by selecting either the number at the beginning (`nums[0]`) or the end (`nums[nums.length - 1]`) of the array, adding that value to her score. This value is then removed from the beginning or the end of `nums`. Then, it’s Mario’s turn to do the same with the remaining sequence. The game proceeds this way, with each player taking numbers from either end until no numbers are left to claim. The player with the highest score wins.\n",
    "\n",
    "However, if they end in a tie, Arya, as the first to act, will claim victory by default.\n",
    "\n",
    "Arya is now before you, asking for help to predict her chances. She wants to know, with her best possible choices, whether she can guarantee a win, assuming both players play with perfect skill.\n",
    "\n",
    "- a) Help Arya by providing a pseudocode for finding an optimal playing strategy, that is, a strategy that maximizes her value. (Hint: Use recursion, assuming that both players play optimally).\n",
    "\n",
    "- b) Write a Python program implementing her game strategy. Try different array lengths to test the algorithm.\n",
    "\n",
    "- c) Is the algorithm efficient? Prove that it is polynomial and provide an asymptotic time complexity bound, or show that it requires exponential time.\n",
    "\n",
    "- d) If the algorithm is exponential, explain how to make it polynomial and provide a pseudocode for it. Recompute the computational complexity of the updated algorithm.\n",
    "\n",
    "- e) Implement the algorithm in Python. Compare your result values with the previous algorithm. Also compare the running times.\n",
    "\n",
    "- f) Finally, consult LLM (ChatGPT, Claude AI, Gemini, Perplexity, etc.) to craft a third, optimized implementation and analyze its time complexity. Also, explain if the LLM is doing a good job and how you can evaluate whether the suggested solution works properly.\n",
    "\n",
    "**Examples**\n",
    "\n",
    "__Input 1__  \n",
    "```\n",
    "nums = [1, 5, 2]\n",
    "```\n",
    "\n",
    "__Output 1__  \n",
    "```\n",
    "false\n",
    "```\n",
    "\n",
    "__Explanation__: Arya’s optimal choices still lead her to a lower score than Mario’s, so she cannot guarantee victory.\n",
    "\n",
    "__Input 2__  \n",
    "```\n",
    "nums = [1, 5, 233, 7]\n",
    "```\n",
    "\n",
    "__Output 2__  \n",
    "```\n",
    "true\n",
    "```\n",
    "\n",
    "__Explanation__: Arya, by playing perfectly, can ensure she ends up with the highest score.\n",
    "\n",
    "---\n",
    "\n",
    "Break a leg!"
   ]
  },
  {
   "cell_type": "markdown",
   "metadata": {},
   "source": [
    "#### a) Help Arya by providing a pseudocode for finding an optimal playing strategy, that is, a strategy that maximizes her value. (Hint: Use recursion, assuming that both players play optimally).\n",
    "\n",
    "Pseudocode for finding an optimal playing strategy for Arya using recursion and assuming both players play optimally:"
   ]
  },
  {
   "cell_type": "raw",
   "metadata": {
    "vscode": {
     "languageId": "raw"
    }
   },
   "source": [
    "FUNCTION opt_strategy_recursive(nums, start, end, turn):\n",
    "    IF start > end THEN\n",
    "        RETURN 0  // Base case: no numbers left to pick\n",
    "\n",
    "    IF turn == \"Arya\" THEN\n",
    "        pick_start = nums[start] + CALL opt_strategy_recursive(nums, start + 1, end, \"Mario\")\n",
    "        pick_end = nums[end] + CALL opt_strategy_recursive(nums, start, end - 1, \"Mario\")\n",
    "        RETURN MAX(pick_start, pick_end)\n",
    "    ELSE\n",
    "        pick_start = -nums[start] + CALL opt_strategy_recursive(nums, start + 1, end, \"Arya\")\n",
    "        pick_end = -nums[end] + CALL opt_strategy_recursive(nums, start, end - 1, \"Arya\")\n",
    "        RETURN MIN(pick_start, pick_end)\n"
   ]
  },
  {
   "cell_type": "markdown",
   "metadata": {},
   "source": [
    "#### b)  Write a Python program implementing her game strategy. Try different array lengths to test the algorithm."
   ]
  },
  {
   "cell_type": "code",
   "execution_count": 87,
   "metadata": {},
   "outputs": [
    {
     "name": "stdout",
     "output_type": "stream",
     "text": [
      "Arya can't win\n",
      "Arya can wins\n",
      "Arya can wins\n"
     ]
    }
   ],
   "source": [
    "def opt_strategy_recursive(nums, start, end, turn):\n",
    "    if start > end:\n",
    "        return 0\n",
    "    \n",
    "    if turn == \"Arya\":\n",
    "        # Arya's turn: Maximize the score difference\n",
    "        pick_start = nums[start] + opt_strategy_recursive(nums, start + 1, end, \"Mario\")\n",
    "        pick_end = nums[end] + opt_strategy_recursive(nums, start, end - 1, \"Mario\")\n",
    "        return max(pick_start, pick_end)\n",
    "    else:\n",
    "        # Mario's turn: Minimize Arya's score difference\n",
    "        pick_start = -nums[start] + opt_strategy_recursive(nums, start + 1, end, \"Arya\")\n",
    "        pick_end = -nums[end] + opt_strategy_recursive(nums, start, end - 1, \"Arya\")\n",
    "        return min(pick_start, pick_end)\n",
    "\n",
    "def final_recursive_result(nums):\n",
    "    return opt_strategy_recursive(nums, 0, len(nums) - 1, \"Arya\") >=  0\n",
    "\n",
    "# Example 1\n",
    "nums = [1, 5, 3, 7, 2]\n",
    "arya_win = final_recursive_result(nums) \n",
    "print(\"Arya can wins\" if arya_win else \"Arya can't win\")\n",
    "\n",
    "# Example 2\n",
    "nums = [8, 15, 3, 7]\n",
    "arya_win = final_recursive_result(nums)\n",
    "print(\"Arya can wins\" if arya_win else \"Arya can't win\")\n",
    "\n",
    "# Example 3\n",
    "nums = [2, 6 ,9, 4, 0, 3, 3, 1]\n",
    "arya_win = final_recursive_result(nums)\n",
    "print(\"Arya can wins\" if arya_win else \"Arya can't win\")\n"
   ]
  },
  {
   "cell_type": "markdown",
   "metadata": {},
   "source": [
    "#### c) Is the algorithm efficient? Prove that it is polynomial and provide an asymptotic time complexity bound, or show that it requires exponential time."
   ]
  },
  {
   "cell_type": "markdown",
   "metadata": {},
   "source": [
    "The recursive algorithm `opt_strategy_recursive` has an exponential time complexity because it evaluates all possible outcomes of the game for every combination of starting and ending indices. At each step, the algorithm gives the current player two choices: to pick the number at the start of the sequence or the number at the end. After making a choice, the algorithm recursively calculates the optimal strategy for the opponent using the remaining subarray. This creates a binary tree of recursive calls, where each level represents decisions for progressively smaller subarrays.\n",
    "\n",
    "This leads to exponential complexity, imagine the input array `nums` contains `n` elements. The first call to `opt_strategy_recursive` spans the entire array, from index `0` to `n-1`. At this stage, the current player has two options: pick the first element or the last. For each choice, the algorithm makes a recursive call to solve the problem for the subarray of size `n-1`. This pattern continues, with each recursive call generating two new calls for subarrays of size `n-2`, and so forth, until the base case of an empty subarray is reached. \n",
    "\n",
    "At every depth in the recursion tree, the number of paths doubles, resulting in \\(2^n\\) calls for an array of size `n`. This exponential growth occurs because the algorithm doesn’t save results for previously solved subproblems. Instead, it recalculates results for overlapping subarrays repeatedly, which leads to a massive increase in computational effort as `n` grows.\n",
    "\n",
    "At each level of recursion, the number of possible paths in the recursion tree doubles. Specifically, at depth `d`, there are `2^d` potential paths. Since the depth of the recursion tree corresponds to the number of elements in the input array, the total number of recursive calls grows exponentially as \\(2^n\\), where `n` is the size of the array. This exponential growth happens because the algorithm doesn’t store the results of subproblems. Instead, it recalculates the same results for overlapping subarrays multiple times.\n",
    "\n",
    "For instance, consider the subproblem where the array spans indices `1` to `n-2`. This subarray can be reached through two different paths in the recursion tree: one where the first element of the original array was selected, and another where the last element was chosen. The algorithm calculates the optimal strategy for the subarray `nums[1:n-2]` independently in both cases, effectively duplicating work. As the size of the array increases, the number of overlapping subproblems grows rapidly, leading to an exponential increase in the time required to solve the problem.\n",
    "\n",
    "To illustrate this with code, every time the function `opt_strategy_recursive(nums, start, end, turn)` is called, it can make two additional recursive calls: `opt_strategy_recursive(nums, start + 1, end, ...)` and `opt_strategy_recursive(nums, start, end - 1, ...)`. Without using memoization or caching, these calls are repeated for the same combinations of `start` and `end`, significantly increasing the number of recursive calls. This repetition leads to redundant computations, as the algorithm keeps recalculating solutions for identical subarray ranges instead of reusing previously computed results.\n"
   ]
  },
  {
   "cell_type": "markdown",
   "metadata": {},
   "source": [
    "#### d) If the algorithm is exponential, explain how to make it polynomial and provide a pseudocode for it. Recompute the computational complexity of the updated algorithm."
   ]
  },
  {
   "cell_type": "markdown",
   "metadata": {},
   "source": [
    "To transform the recursive algorithm with exponential complexity into a more efficient polynomial solution **dynamic programming** is used to eliminate redundant computations. In the recursive method, overlapping subproblems, such as the same subarray ranges (`nums[start:end]`), are recomputed multiple times because the function does not store intermediate results. With DP, we precompute and store the results for all possible subarray configurations in table, `dp[start][end]`. Each entry in this table represents the optimal score difference Arya can achieve if the game begins with the subarray `nums[start...end]`."
   ]
  },
  {
   "cell_type": "raw",
   "metadata": {
    "vscode": {
     "languageId": "raw"
    }
   },
   "source": [
    "FUNCTION can_arya_win(nums):\n",
    "    n = LENGTH(nums)\n",
    "    dp = 2D array of size n x n, initialized to 0\n",
    "\n",
    "    // Base case: Single element\n",
    "    FOR i FROM 0 TO n - 1:\n",
    "        dp[i][i] = nums[i]\n",
    "\n",
    "    // Fill the DP table for subarrays of increasing length\n",
    "    FOR length FROM 2 TO n:\n",
    "        FOR start FROM 0 TO (n - length):\n",
    "            end = start + length - 1\n",
    "            // Compute score difference if picking from the start or end\n",
    "            pick_start = nums[start] - dp[start + 1][end]\n",
    "            pick_end = nums[end] - dp[start][end - 1]\n",
    "            dp[start][end] = MAX(pick_start, pick_end)\n",
    "\n",
    "    // Arya guarantees a win if the score difference is non-negative\n",
    "    RETURN dp[0][n - 1] >= 0\n"
   ]
  },
  {
   "cell_type": "markdown",
   "metadata": {},
   "source": [
    "The DP algorithm starts by initializing the base case when `start` equals `end`, the subarray contains only one element, so `dp[i][i] = nums[i]`. This is because the player takes the only available element directly. For subarrays of increasing lengths, from 2 to `n`, the DP table is filled iteratively. At each step, the algorithm computes the best strategy for both players, taking into account Arya’s goal of maximizing her score difference and Mario’s aim to minimize it. \n",
    "\n",
    "For example, if Arya chooses `nums[start]`, the remaining game state corresponds to `dp[start+1][end]`. Alternatively, if she picks `nums[end]`, the state becomes `dp[start][end-1]`. The optimal score difference for Arya is then determined by taking the maximum value from these two choices. This process ensures that the result for each subarray is calculated only once and reused wherever needed, eliminating the need for repetitive recursive calls.\n",
    "\n",
    "The time complexity of this approach is reduced to \\(O(n^2)\\), as the algorithm computes the result for all possible subarrays of sizes \\(1\\) to \\(n\\), effectively filling half of an \\(n \\times n\\) DP table. The space complexity is also \\(O(n^2)\\), required to store the DP table. By using dynamic programming, we eliminate the inefficiencies of the recursive method, enabling the problem to be solved efficiently even for large arrays."
   ]
  },
  {
   "cell_type": "markdown",
   "metadata": {},
   "source": [
    "#### e) Implement the algorithm in Python. Compare your result values with the previous algorithm. Also compare the running times."
   ]
  },
  {
   "cell_type": "code",
   "execution_count": 90,
   "metadata": {},
   "outputs": [
    {
     "data": {
      "text/plain": [
       "{'Recursive Optimal Score': True,\n",
       " 'Recursive Time (s)': 0.001971099991351366,\n",
       " 'DP Optimal Score': True,\n",
       " 'DP Time (s)': 0.00032839999767020345}"
      ]
     },
     "execution_count": 90,
     "metadata": {},
     "output_type": "execute_result"
    }
   ],
   "source": [
    "import timeit\n",
    "\n",
    "# Polynomial time dynamic programming solution\n",
    "def opt_strategy_dp(nums):\n",
    "    n = len(nums)\n",
    "    dp = [[0] * n for _ in range(n)]\n",
    "\n",
    "    # Base case: Single element\n",
    "    for i in range(n):\n",
    "        dp[i][i] = nums[i]\n",
    "\n",
    "    # Fill the DP table\n",
    "    for length in range(2, n + 1):  # Subarray lengths\n",
    "        for start in range(n - length + 1):\n",
    "            end = start + length - 1\n",
    "            pick_start = nums[start] - dp[start + 1][end]\n",
    "            pick_end = nums[end] - dp[start][end - 1]\n",
    "            dp[start][end] = max(pick_start, pick_end)\n",
    "\n",
    "    return dp[0][n - 1] >= 0\n",
    "\n",
    "def opt_strategy_recursive(nums, start, end, turn):\n",
    "    if start > end:\n",
    "        return 0\n",
    "    \n",
    "    if turn == \"Arya\":\n",
    "        pick_start = nums[start] + opt_strategy_recursive(nums, start + 1, end, \"Mario\")\n",
    "        pick_end = nums[end] + opt_strategy_recursive(nums, start, end - 1, \"Mario\")\n",
    "        return max(pick_start, pick_end)\n",
    "    else:\n",
    "        pick_start = -nums[start] + opt_strategy_recursive(nums, start + 1, end, \"Arya\")\n",
    "        pick_end = -nums[end] + opt_strategy_recursive(nums, start, end - 1, \"Arya\")\n",
    "        return min(pick_start, pick_end)\n",
    "\n",
    "def final_recursive_result(nums):\n",
    "    return opt_strategy_recursive(nums, 0, len(nums) - 1, \"Arya\") >=  0\n",
    "\n",
    "    \n",
    "# Compare results and running times\n",
    "nums = [2, 6, 9, 4, 0, 3, 3, 1]\n",
    "\n",
    "# Recursive solution\n",
    "optimal_recursive = final_recursive_result(nums)\n",
    "recursive_time = timeit.timeit(lambda: opt_strategy_recursive(nums, 0, len(nums) - 1, \"Arya\"), number=10)\n",
    "\n",
    "# Dynamic programming solution\n",
    "optimal_dp = opt_strategy_dp(nums)\n",
    "dp_time = timeit.timeit(lambda: opt_strategy_dp(nums), number=10)\n",
    "\n",
    "# Display results and timing comparison\n",
    "results = {\n",
    "    \"Recursive Optimal Score\": optimal_recursive,\n",
    "    \"Recursive Time (s)\": recursive_time,\n",
    "    \"DP Optimal Score\": optimal_dp,\n",
    "    \"DP Time (s)\": dp_time,\n",
    "}\n",
    "\n",
    "results"
   ]
  },
  {
   "cell_type": "markdown",
   "metadata": {},
   "source": [
    "A comparison of execution times clearly denotes the efficiency of a dynamic programming approach compared with a recursive method. \n",
    "\n",
    " The overhead of the recursive method includes the maintenance of the function call stack and execution of some redundant computations, even with memoization present, while this DP solution avoids those inefficiencies by directly iterating over the subproblems of a given problem in a systematic order. This advantage of DP would be even more remarkable for larger-sized inputs."
   ]
  },
  {
   "cell_type": "markdown",
   "metadata": {},
   "source": [
    "e) Finally, consult LLM (ChatGPT, Claude AI, Gemini, Perplexity, etc.) to craft a third, optimized implementation and analyze its time complexity. Also, explain if the LLM is doing a good job and how you can evaluate whether the suggested solution works properly."
   ]
  },
  {
   "cell_type": "code",
   "execution_count": 92,
   "metadata": {},
   "outputs": [
    {
     "name": "stdout",
     "output_type": "stream",
     "text": [
      "Optimal score for Arya: False\n",
      "Optimal score for Arya: True\n",
      "Optimal score for Arya: True\n"
     ]
    }
   ],
   "source": [
    "def opt_strategy_memo(nums):\n",
    "    n = len(nums)\n",
    "    memo = {}\n",
    "\n",
    "    def compute(start, end, turn):\n",
    "        # Base case: no numbers left\n",
    "        if start > end:\n",
    "            return 0\n",
    "        \n",
    "        # Check if the result is already computed\n",
    "        if (start, end, turn) in memo:\n",
    "            return memo[(start, end, turn)]\n",
    "        \n",
    "        if turn == \"Arya\":\n",
    "            # Arya's turn: Maximize the score difference\n",
    "            pick_start = nums[start] + compute(start + 1, end, \"Mario\")\n",
    "            pick_end = nums[end] + compute(start, end - 1, \"Mario\")\n",
    "            result = max(pick_start, pick_end)\n",
    "        else:\n",
    "            # Mario's turn: Minimize Arya's score difference\n",
    "            pick_start = -nums[start] + compute(start + 1, end, \"Arya\")\n",
    "            pick_end = -nums[end] + compute(start, end - 1, \"Arya\")\n",
    "            result = min(pick_start, pick_end)\n",
    "\n",
    "        # Store the result in the memo table\n",
    "        memo[(start, end, turn)] = result\n",
    "        return result\n",
    "\n",
    "    # Arya guarantees a win if the score difference is non-negative\n",
    "    return compute(0, n - 1, \"Arya\") >= 0\n",
    "\n",
    "# Example 1\n",
    "nums = [1, 5, 3, 7, 2]\n",
    "optimalScore = opt_strategy_memo(nums) \n",
    "print(\"Optimal score for Arya:\", optimalScore)\n",
    "\n",
    "# Example 2\n",
    "nums = [8, 15, 3, 7]\n",
    "optimalScore = optimalScore = opt_strategy_memo(nums)\n",
    "print(\"Optimal score for Arya:\", optimalScore)\n",
    "\n",
    "# Example 3\n",
    "nums = [2, 6 ,9, 4, 0, 3, 3, 1]\n",
    "optimalScore = optimalScore = opt_strategy_memo(nums)\n",
    "print(\"Optimal score for Arya:\", optimalScore)"
   ]
  },
  {
   "cell_type": "markdown",
   "metadata": {},
   "source": [
    "The memoized version of the optimal strategy algorithm has a time complexity of \\(O(n^2)\\), where \\(n\\) is the size of the input array `nums`. This efficiency is achieved by ensuring that each subproblem, uniquely identified by the tuple `(start, end, turn)`, is calculated only once and stored in a memoization table. Since there are \\(O(n^2)\\) unique combinations of `start` and `end` indices, and each subproblem takes constant time to retrieve or compute, the overall complexity is quadratic. The space complexity is also \\(O(n^2)\\), driven by the size of the memoization table used to store results for each subproblem.\n",
    "\n",
    "In comparison, the pure recursive version of the algorithm has an exponential time complexity, \\(O(2^n)\\). This inefficiency arises because the algorithm repeatedly recalculates overlapping subproblems for every possible sequence of moves, resulting in an exponentially large recursion tree. Without memoization to store and reuse results, the recursive version becomes impractical for large inputs.\n",
    "\n",
    "The dynamic programming approach, like the memoized version, achieves a time complexity of \\(O(n^2)\\). However, it uses an iterative process to compute results for all subarrays in a structured and systematic way. While the dynamic programming method can be faster in practice due to its lack of recursion overhead and direct computation, the memoized version is often easier to implement when transitioning from a recursive approach. It is also more intuitive for adapting solutions from a purely recursive algorithm.\n",
    "\n",
    "Both the memoized and dynamic programming approaches significantly outperform the recursive method, making them much more efficient for handling larger arrays."
   ]
  }
 ],
 "metadata": {
  "kernelspec": {
   "display_name": "Python 3",
   "language": "python",
   "name": "python3"
  },
  "language_info": {
   "codemirror_mode": {
    "name": "ipython",
    "version": 3
   },
   "file_extension": ".py",
   "mimetype": "text/x-python",
   "name": "python",
   "nbconvert_exporter": "python",
   "pygments_lexer": "ipython3",
   "version": "3.10.5"
  }
 },
 "nbformat": 4,
 "nbformat_minor": 2
}
